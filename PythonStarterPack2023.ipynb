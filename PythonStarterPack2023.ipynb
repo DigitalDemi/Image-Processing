{
 "cells": [
  {
   "cell_type": "markdown",
   "metadata": {},
   "source": [
    "# Starter pack for Image Processing\n",
    "&copy; Dr Jane Courtney &amp; Jack O'Neill 2023\n",
    "\n",
    "A collection of helpful snippets for any image processing project using OpenCV and Python."
   ]
  },
  {
   "cell_type": "markdown",
   "metadata": {},
   "source": [
    "## Required Packages\n",
    "\n",
    "The latest version of each of these packages should work, here is the list of packages needed and the version of the package used in generating this notebook. (To check which version you've installed you can use the pip **show** command, for example **updated**\n",
    "\n",
    "```\n",
    "pip show opencv-contrib-phython\n",
    "```\n",
    "\n",
    "* opencv-contrib-python @ 4.7.0.72\n",
    "* numpy @ 1.24.2\n",
    "* matplotlib @ 3.7.0\n",
    "\n",
    "To install a specific version of a package using pip just add ==\\<version number\\> to the end of the command. For example, to install opencv-contrib-python at version 4.7.0.72 run\n",
    "\n",
    "```\n",
    "pip install opencv-contrib-python==4.7.0.72\n",
    "```\n",
    "\n",
    "It's important to state which versions you used in order to make your code reproducible. However, usually packages are backward compatible, so just install the latest version of each package, but if you run into issues it's good to try running the notebook using the versions it was built with"
   ]
  },
  {
   "cell_type": "markdown",
   "metadata": {},
   "source": [
    "## Running Terminal Commands from Notebook\n",
    "\n",
    "Jupyter Notebook allows you to use the magic symbol **!** to run commands directly in the terminal. This is particularly useful if you have multiple versions of Python installed as it helps ensure that any pip packages you installed are linked to the correct python version.\n",
    "\n",
    "If a cell starts with an exclamation mark, it will be interpreted as a console command. For example, to show the version of opencv-contrib-python using pip we can do the following\n",
    "\n",
    "*Note* Jupyter doesn't handle interactive input very well with terminal commands. This makes it tricky to run commands which require you to enter *y* to confirm, for example. Most commands can be run with a **-y** option which automatically answers yes to any confirmation prompts"
   ]
  },
  {
   "cell_type": "code",
   "execution_count": 1,
   "metadata": {},
   "outputs": [
    {
     "name": "stdout",
     "output_type": "stream",
     "text": [
      "Name: opencv-contrib-python\n",
      "Version: 4.10.0.84\n",
      "Summary: Wrapper package for OpenCV python bindings.\n",
      "Home-page: https://github.com/opencv/opencv-python\n",
      "Author: \n",
      "Author-email: \n",
      "License: Apache 2.0\n",
      "Location: /home/demi/.local/share/virtualenvs/main-ULZTZ3xU/lib/python3.12/site-packages\n",
      "Requires: numpy\n",
      "Required-by: \n"
     ]
    }
   ],
   "source": [
    "!pip show opencv-contrib-python"
   ]
  },
  {
   "cell_type": "markdown",
   "metadata": {},
   "source": [
    "## Matplotlib Magic\n",
    "\n",
    "There are a couple of options for how to make jupyter notebook work with matplotlib. The most straightforward way (and most common use-case) is to tell jupyter to output any matplotlib graphs directly below the cell where we call the **show()** function. You can set this by using a bit of magic. The first line of your notebook should read\n",
    "\n",
    "```\n",
    "%matplotlib inline\n",
    "```\n",
    "\n",
    "This is specific to Jupyter notebook and doesn't work in a regular python script. If you are having problems where matplotlib graphs aren't appearing, make sure you've added this line (and run it)"
   ]
  },
  {
   "cell_type": "code",
   "execution_count": 1,
   "metadata": {},
   "outputs": [],
   "source": [
    "%matplotlib inline\n",
    "# %pip install opencv-contrib-python\n",
    "# %pip install numpy\n",
    "# %pip install matplotlib\n",
    "# %pip install easygui\n",
    "\n",
    "import os\n",
    "os.environ[\"QT_QPA_PLATFORM\"] = \"xcb\"\n",
    "import cv2 # The OpenCV library; install using `pip install opencv-contrib-python`\n",
    "import numpy as np # Helpful when working with arrays; install using `pip install numpy`\n",
    "from matplotlib import pyplot as plt # Good for graphing; install using `pip install matplotlib`\n",
    "from matplotlib import image as image\n",
    "import easygui # An easy-to-use file-picker; pip install easygui (mac not supported)"
   ]
  },
  {
   "cell_type": "markdown",
   "metadata": {},
   "source": [
    "## Reading Images\n",
    "\n",
    "Opening an image from a file, this is best used when you can hard-code the filename"
   ]
  },
  {
   "cell_type": "code",
   "execution_count": 2,
   "metadata": {},
   "outputs": [
    {
     "data": {
      "text/plain": [
       "array([[[154, 125, 116],\n",
       "        [154, 125, 116],\n",
       "        [153, 124, 115],\n",
       "        ...,\n",
       "        [184, 168, 152],\n",
       "        [186, 170, 154],\n",
       "        [187, 171, 155]],\n",
       "\n",
       "       [[152, 123, 114],\n",
       "        [152, 123, 114],\n",
       "        [152, 123, 114],\n",
       "        ...,\n",
       "        [184, 168, 152],\n",
       "        [184, 168, 152],\n",
       "        [184, 168, 152]],\n",
       "\n",
       "       [[147, 118, 109],\n",
       "        [148, 119, 110],\n",
       "        [148, 119, 110],\n",
       "        ...,\n",
       "        [183, 167, 151],\n",
       "        [182, 166, 150],\n",
       "        [181, 165, 149]],\n",
       "\n",
       "       ...,\n",
       "\n",
       "       [[252, 251, 255],\n",
       "        [251, 250, 254],\n",
       "        [251, 250, 254],\n",
       "        ...,\n",
       "        [227, 222, 221],\n",
       "        [227, 222, 221],\n",
       "        [227, 222, 221]],\n",
       "\n",
       "       [[250, 249, 253],\n",
       "        [250, 249, 253],\n",
       "        [250, 249, 253],\n",
       "        ...,\n",
       "        [227, 222, 221],\n",
       "        [227, 222, 221],\n",
       "        [227, 222, 221]],\n",
       "\n",
       "       [[249, 248, 252],\n",
       "        [249, 248, 252],\n",
       "        [249, 248, 252],\n",
       "        ...,\n",
       "        [227, 222, 221],\n",
       "        [227, 222, 221],\n",
       "        [228, 223, 222]]], dtype=uint8)"
      ]
     },
     "execution_count": 2,
     "metadata": {},
     "output_type": "execute_result"
    }
   ],
   "source": [
    "I = cv2.imread(\"Zardoz.jpg\")\n",
    "I\n"
   ]
  },
  {
   "cell_type": "markdown",
   "metadata": {},
   "source": [
    "Opening an image using a *FilePicker* dialog. Note that the *filetypes* argument is required on MacOS, otherwise the dialog won't allow the user to pick any type of file, on Windows machines if you leave the filetypes argument blank it will by default allow all."
   ]
  },
  {
   "cell_type": "code",
   "execution_count": 11,
   "metadata": {},
   "outputs": [
    {
     "name": "stdout",
     "output_type": "stream",
     "text": [
      "/home/demi/.uni/image-processing/main/Zardoz.jpg\n"
     ]
    }
   ],
   "source": [
    "f = easygui.fileopenbox(filetypes=[\"*.jpg\",\"*.jpeg\",\"*.png\"])\n",
    "print(f)\n",
    "I = cv2.imread(f)"
   ]
  },
  {
   "cell_type": "markdown",
   "metadata": {},
   "source": [
    "### From Videos\n",
    "\n",
    "A video is essentially a whole bunch of images (frames) shoved into a single file. The cv2 *read()* function allows us to extract the next still-frame from a video. The following snippet reads a video file and extracts the first image from it."
   ]
  },
  {
   "cell_type": "code",
   "execution_count": 5,
   "metadata": {},
   "outputs": [],
   "source": [
    "Video = cv2.VideoCapture(\"Train.webm\")\n",
    "(check, I) = Video.read()"
   ]
  },
  {
   "cell_type": "markdown",
   "metadata": {},
   "source": [
    "We can also capture frames from a webcam. OpenCV treats a webcam as if it's a video file. If we pass a number rather than a string to the *VideoCapture()* function openCV will look for a device attached to the computer rather than the file. The number we pass identifies the device (0 is the first camera, 1 is the second camera *etc.*)"
   ]
  },
  {
   "cell_type": "code",
   "execution_count": 6,
   "metadata": {},
   "outputs": [],
   "source": [
    "Video = cv2.VideoCapture(0)\n",
    "(check, I) = Video.read()"
   ]
  },
  {
   "cell_type": "markdown",
   "metadata": {},
   "source": [
    "We can use a loop to iterate through every image in the video one-by-one. Don't forget to allow the user to break out of the loop if required. It's also important to release the video once finished"
   ]
  },
  {
   "cell_type": "code",
   "execution_count": 10,
   "metadata": {},
   "outputs": [],
   "source": [
    "# Video capture from a file:\n",
    "Video = cv2.VideoCapture(\"Train.webm\")\n",
    "(check, I) = Video.read()\n",
    "\n",
    "while check:\n",
    "    cv2.imshow(\"image\", I)\n",
    "    \n",
    "    # This delays for 1ms while waiting for a key to be pressed\n",
    "    key = cv2.waitKey(1)\n",
    "\n",
    "    # if the 'q' keqy is pressed, quit:\n",
    "    if key == ord(\"q\"):\n",
    "         break\n",
    "\n",
    "    # Next Frame:\n",
    "    (check, I) = Video.read()\n",
    "\n",
    "Video.release()"
   ]
  },
  {
   "cell_type": "markdown",
   "metadata": {},
   "source": [
    "## Writing Images\n",
    "\n",
    "The imwrite function saves an image to disk. You won't see any output from the command, but if you open up the folder you should see the new file."
   ]
  },
  {
   "cell_type": "code",
   "execution_count": 5,
   "metadata": {},
   "outputs": [
    {
     "data": {
      "text/plain": [
       "True"
      ]
     },
     "execution_count": 5,
     "metadata": {},
     "output_type": "execute_result"
    }
   ],
   "source": [
    "cv2.imwrite(\"image_out.jpg\",I)"
   ]
  },
  {
   "cell_type": "markdown",
   "metadata": {},
   "source": [
    "## Showing Images\n",
    "\n",
    "Images can be shown using either OpenCV or MatPlotLib. Each approach has a different window with slightly different functionality. Remember that OpenCV uses the BGR image format while MatPlotLib uses RGB so you'll need to convert between colourspaces as needed.\n",
    "\n",
    "If you use OpenCVs *imshow* function, make sure you make a call to waitKey to halt programme execution. Otherwise the programme will finish running before the image has a chance to pop up.\n",
    "\n",
    "When using Jupyter it's **very important to manually destroy all cv2 windows** when you're finished with them. If you forget to do this, you can end up hanging the python kernel and needing to restart. Whenever you use *imshow()* make sure you add a call to *cv2.destroyAllWindows()*. You can see below that we put this in after a call to *waitKey()* to make sure that we have time to look at the image before we destroy it. This applies to open-cv only, and not matplotlib"
   ]
  },
  {
   "cell_type": "code",
   "execution_count": 3,
   "metadata": {},
   "outputs": [
    {
     "data": {
      "text/plain": [
       "-1"
      ]
     },
     "execution_count": 3,
     "metadata": {},
     "output_type": "execute_result"
    }
   ],
   "source": [
    "# Show an image on the screen using OpenCV\n",
    "\n",
    "cv2.imshow(\"window title\", I)\n",
    "key = cv2.waitKey(0) # the 0 here tells openCV to wait indefinitely (until a key is pressed)\n",
    "cv2.destroyAllWindows()\n",
    "\n",
    "# Unix systems require another call to cv2.waitKey after cv2.destoyAllWindows() to avoid a bug where the \n",
    "# window doesn't close. The 1ms timeout causes this to exit almost immediately so the user doesn't notice it\n",
    "cv2.waitKey(1) "
   ]
  },
  {
   "cell_type": "markdown",
   "metadata": {},
   "source": [
    "When using matplotlib you need to make sure you're using the right colourspace (RGB). The variable **plt** here was imported at the beginning of the notebook. Use *imshow()* to add the image to the plot but don't forget to call *plt.show()* to actually show the image"
   ]
  },
  {
   "cell_type": "code",
   "execution_count": null,
   "metadata": {},
   "outputs": [],
   "source": [
    "# Show an image on the screen using MatPlotLib\n",
    "I = cv2.cvtColor(I, cv2.COLOR_BGR2RGB)\n",
    "plt.imshow(I) \n",
    "plt.show() "
   ]
  },
  {
   "cell_type": "markdown",
   "metadata": {},
   "source": [
    "## Colourspaces\n",
    "\n",
    "Colourspaces define the format that is used for storing information about images. The most common colourspace in computing is *RGB*, but OpenCV, in its wisdom, continues to use *BGR*. This can cause unexpected psychadelia when showing images"
   ]
  },
  {
   "cell_type": "code",
   "execution_count": null,
   "metadata": {},
   "outputs": [],
   "source": [
    "# Converting to different colour spaces:\n",
    "RGB = cv2.cvtColor(I, cv2.COLOR_BGR2RGB)\n",
    "HSV = cv2.cvtColor(I, cv2.COLOR_BGR2HSV)\n",
    "YUV = cv2.cvtColor(I, cv2.COLOR_BGR2YUV)\n",
    "G = cv2.cvtColor(I, cv2.COLOR_BGR2GRAY)\n",
    "\n",
    "# Showing each image on the screen in a different window (OpenCV):\n",
    "cv2.imshow(\"Original\", I)\n",
    "cv2.imshow(\"HSV\", HSV)\n",
    "cv2.imshow(\"YUV\", YUV)\n",
    "cv2.imshow(\"Grayscale\", G)\n",
    "key = cv2.waitKey(0)\n",
    "cv2.destroyAllWindows()\n",
    "\n",
    "cv2.waitKey(1) "
   ]
  },
  {
   "cell_type": "markdown",
   "metadata": {},
   "source": [
    "## Pixels\n",
    "\n",
    "Fundamentally, an image is nothing more than an array of values describing how to generate colour at various pixel locations. We can use standard Python and numPy methods of dealing with arrays to manipulate pixels directly.\n",
    "\n",
    "**Avoid looping through image arrays where possible**. Using slice indexing and *numpy* methods to work with images is highly optimized. Looping through images leads to horrificly bad performance (and it's unreadable)."
   ]
  },
  {
   "cell_type": "code",
   "execution_count": null,
   "metadata": {},
   "outputs": [],
   "source": [
    "# Accessing a pixel's value:\n",
    "B = I[200,300,0]\n",
    "BGR = I[200,300]\n",
    "print(\"The blue value @ (200,300) is \", B)\n",
    "print(\"The pixel value @ (200,300) is \", BGR)\n",
    "\n",
    "# Setting a pixel's value:\n",
    "I[200,300,0] = 255\n",
    "I[205,300] = (255,0,0)\n",
    "cv2.imwrite(\"image.bmp\",I)\n",
    "\n",
    "# Using the colon operator:\n",
    "I[190:210,190:210] = (0,255,0)\n",
    "Pixel = I[200,200,:]\n",
    "print(\"The pixel value @ (200,200) is \", Pixel)"
   ]
  },
  {
   "cell_type": "markdown",
   "metadata": {},
   "source": [
    "## Drawing\n",
    "\n",
    "OpenCV provides some convenience functions to allow you to draw on top of images. Useful for annotations *etc.*"
   ]
  },
  {
   "cell_type": "code",
   "execution_count": null,
   "metadata": {},
   "outputs": [],
   "source": [
    "# Keeping a copy:\n",
    "Original = I.copy() \n",
    "\n",
    "# Drawing a line:\n",
    "cv2.line(img = I, pt1 = (200,200), pt2 = (500,600), color = (255,255,255), thickness = 5) \n",
    "\n",
    "# Drawing a circle:\n",
    "cv2.circle(img = I, center = (800,400), radius = 50, color = (0,0,255), thickness = -1)\n",
    "\n",
    "# Drawing a rectangle:\n",
    "cv2.rectangle(img = I, pt1 = (500,100), pt2 = (800,300), color = (255,0,255), thickness = 10)\n",
    "\n",
    "# Getting the size of the image:\n",
    "size = np.shape(I)"
   ]
  },
  {
   "cell_type": "markdown",
   "metadata": {},
   "source": [
    "## User Input"
   ]
  },
  {
   "cell_type": "code",
   "execution_count": null,
   "metadata": {},
   "outputs": [],
   "source": [
    "\n",
    "\n",
    "# Capturing user input:\n",
    "def draw(event,x,y,flags,param): \n",
    "    if event == cv2.EVENT_LBUTTONDOWN: \n",
    "        cv2.circle(img = I, center = (x,y),radius = 5, color = (255,255,255), thickness = -1) \n",
    "        cv2.imshow(\"image\", I) \n",
    "\n",
    "cv2.namedWindow(\"image\") \n",
    "cv2.setMouseCallback(\"image\", draw) \n",
    "cv2.imshow(\"image\", I)\n",
    "key = cv2.waitKey(0)\n",
    "cv2.destroyAllWindows()\n",
    "cv2.waitKey(1)"
   ]
  },
  {
   "cell_type": "markdown",
   "metadata": {},
   "source": [
    "# Submission Requirements\n",
    "\n",
    "Using the code in the cell above (feel free to copy and modify as appropriate)\n",
    "\n",
    "1. Download the file googly.jpg from Brightspace\n",
    "2. Load the image into Open-CV (you can hard-code the name)\n",
    "3. Run the code and use it to draw three green circles on the image with a radius of 10 pixels"
   ]
  },
  {
   "cell_type": "code",
   "execution_count": null,
   "metadata": {},
   "outputs": [],
   "source": [
    "I = cv2.imread(\"googly.jpg\")\n",
    "\n",
    "cv2.circle(img = I, center = (100,400), radius = 10, color = (0,255,0), thickness = -1)\n",
    "\n",
    "cv2.circle(img = I, center = (500,400), radius = 10, color = (0,255,0), thickness = -1)\n",
    "\n",
    "cv2.circle(img = I, center = (300,400), radius = 10, color = (0,255,), thickness = -1)\n",
    "\n",
    "#Showing the image:\n",
    "cv2.imshow(\"image\", I)\n",
    "\n",
    "key = cv2.waitKey(0)\n",
    "cv2.destroyAllWindows()\n",
    "cv2.waitKey(1)"
   ]
  },
  {
   "cell_type": "code",
   "execution_count": null,
   "metadata": {},
   "outputs": [],
   "source": []
  }
 ],
 "metadata": {
  "kernelspec": {
   "display_name": "Image-Processing",
   "language": "python",
   "name": "image-processing"
  },
  "language_info": {
   "codemirror_mode": {
    "name": "ipython",
    "version": 3
   },
   "file_extension": ".py",
   "mimetype": "text/x-python",
   "name": "python",
   "nbconvert_exporter": "python",
   "pygments_lexer": "ipython3",
   "version": "3.12.6"
  }
 },
 "nbformat": 4,
 "nbformat_minor": 4
}
