{
 "cells": [
  {
   "cell_type": "code",
   "execution_count": null,
   "id": "b6c1c5b3",
   "metadata": {},
   "outputs": [],
   "source": [
    "import cv2\n",
    "import numpy as np\n",
    "from matplotlib import pyplot as plt\n",
    "\n",
    "# Please DO NOT add any additional imports to this notebook\n",
    "# Functionality using libraries other than those listed above will not be graded\n",
    "\n",
    "\n",
    "def process_image(BG: np.ndarray, I1: np.ndarray, I2: np.ndarray) -> np.ndarray:\n",
    "    \"\"\"Remove the following text\n",
    "    Include your documentation here. \n",
    "    Carry out all of your image processing in this function. \n",
    "    Please do not change the function signature. \n",
    "    Any processing done outside this function will not be graded\"\"\"\n",
    "\n",
    "    \"\"\"\n",
    "    Instructions\n",
    "Treasured Memories\n",
    "\n",
    "Newlyweds John and Jane Doe had to cancel their planned honeymoon to Paris as Jane was too busy with work. Gutted to miss out on a family portrait in front of the Eiffel Tower, they've asked you to help. Both have sent you portraits of themselves and the background they'd like to use for this portrait. Use your newfound image processing skills to write a python programme which will re-unite John and Jane in front of the Eiffel Tower.\n",
    "\n",
    "Design Specifications:\n",
    "Your final design should be a single Jupyter Notebook (using the template provided and adhering to the restrictions within) which, when run, will add human models in two specified photos into a specified background photo. You may assume that the model photos will contain a white border, and be taken in front of a green screen (as in the test images)\n",
    "The final image should be an enhanced version of the originals, with similar colour saturation on each of the models, and each model image rotated so that they are perpendicular.\n",
    "Your user interface should be simple. It should read in the attached and output a single image. This script should run non-interactively (without requiring the input of a user)\n",
    "Your submission be named StudentNumber_Assignment2.ipynb with the text StudentNumber replaced by your actual student number. If your student number is C12345678 then your submission should be named C12345678_Assignment2.ipynb\n",
    "Follow the submission guidelines in the attached Jupyter notebook\n",
    "Tips (not required):\n",
    "\n",
    "In analysing the photos, you notice that person1.jpg is rotated by 3 degrees clockwise and person2.jpg is rotated by -2 degrees anti-clockwise. You may choose to use this as a starting point but please note that your final submission should be able to identify the angle of rotation of any similar image\n",
    "Convert to an appropriate colourspace to explore the relative saturation levels of both models\n",
    "Enhance the images to increase contrast and definition\n",
    "Test for improvements by viewing the image histograms and look for any changes across rows and columns\n",
    "The final submission should not contain any interactive elements, but things like cv2.imshow can be useful to investigate the image. Feel free to use these elements while developing your solution, but ensure they are removed before submission.\n",
    "\"\"\"\n",
    "    return BG\n",
    "    \n",
    "\n",
    "# Please DO NOT change any of the code below. All modifications to this template should\n",
    "# occur inside the **process_image** function\n",
    "\n",
    "\n",
    "BG = cv2.imread('./background.jpg')\n",
    "I1 = cv2.imread('./male.jpg')\n",
    "I2 = cv2.imread('./female.jpg')\n",
    "\n",
    "merged = process_image(BG, I1, I2)\n",
    "\n",
    "plt.imshow(merged)\n"
   ]
  },
  {
   "cell_type": "code",
   "execution_count": null,
   "id": "7f3d3def",
   "metadata": {},
   "outputs": [],
   "source": []
  }
 ],
 "metadata": {
  "kernelspec": {
   "display_name": "Python 3",
   "language": "python",
   "name": "python3"
  },
  "language_info": {
   "codemirror_mode": {
    "name": "ipython",
    "version": 3
   },
   "file_extension": ".py",
   "mimetype": "text/x-python",
   "name": "python",
   "nbconvert_exporter": "python",
   "pygments_lexer": "ipython3",
   "version": "3.12.0"
  }
 },
 "nbformat": 4,
 "nbformat_minor": 5
}
